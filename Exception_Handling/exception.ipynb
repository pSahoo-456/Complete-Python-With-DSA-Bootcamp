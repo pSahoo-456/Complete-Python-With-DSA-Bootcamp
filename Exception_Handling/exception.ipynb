{
 "cells": [
  {
   "cell_type": "markdown",
   "id": "4b54493f",
   "metadata": {},
   "source": [
    "## Understanding Exception"
   ]
  },
  {
   "cell_type": "markdown",
   "id": "7e720546",
   "metadata": {},
   "source": [
    "##### Exception handling in python allows you to handle errors gracefully and take corrective actions without stopping the execution of the program. This lesson will cover the basics of exceptions, including how to use try, except,else and finally blocks."
   ]
  },
  {
   "cell_type": "markdown",
   "id": "1e054c17",
   "metadata": {},
   "source": [
    "#### What Are Exceptions?\n",
    "\n",
    "##### Exceptions are events that discurpt the normal flow of a program. They occure when an error is encountered during program excution . Common exceptions include:\n",
    "\n",
    "##### 1.ZeroDivisionError: Dividing by Zero\n",
    "##### 2.ModuleNotFoundError: module/file not found\n",
    "##### 3.ValueError: Invalid Error\n",
    "##### 1.TypeError: Invalis type"
   ]
  },
  {
   "cell_type": "code",
   "execution_count": null,
   "id": "3fe7f156",
   "metadata": {},
   "outputs": [
    {
     "ename": "NameError",
     "evalue": "name 'b' is not defined",
     "output_type": "error",
     "traceback": [
      "\u001b[1;31m---------------------------------------------------------------------------\u001b[0m",
      "\u001b[1;31mNameError\u001b[0m                                 Traceback (most recent call last)",
      "Cell \u001b[1;32mIn[1], line 1\u001b[0m\n\u001b[1;32m----> 1\u001b[0m a\u001b[38;5;241m=\u001b[39m\u001b[43mb\u001b[49m\n",
      "\u001b[1;31mNameError\u001b[0m: name 'b' is not defined"
     ]
    }
   ],
   "source": [
    "a=b #it will raise error because we have not declared the variable b\n"
   ]
  },
  {
   "cell_type": "code",
   "execution_count": 3,
   "id": "d2b74f38",
   "metadata": {},
   "outputs": [
    {
     "name": "stdout",
     "output_type": "stream",
     "text": [
      "The variable has not been assigned.. \n"
     ]
    }
   ],
   "source": [
    "## so here is the way how to show it with a user friendly message\n",
    "try:\n",
    "    a=b\n",
    "except:\n",
    "    print(\"The variable has not been assigned.. \")"
   ]
  },
  {
   "cell_type": "code",
   "execution_count": 4,
   "id": "b1d45341",
   "metadata": {},
   "outputs": [
    {
     "name": "stdout",
     "output_type": "stream",
     "text": [
      "name 'b' is not defined\n"
     ]
    }
   ],
   "source": [
    "try:\n",
    "    a=b\n",
    "except NameError as EX:\n",
    "    print(EX)"
   ]
  },
  {
   "cell_type": "code",
   "execution_count": null,
   "id": "944b4cb6",
   "metadata": {},
   "outputs": [],
   "source": [
    "try:\n",
    "    result=1/0\n",
    "    a=b\n",
    "except ZeroDivisionError as ex:\n",
    "    print(ex)\n",
    "except Exception as ex1:\n",
    "    print(ex1)\n",
    "    print(\"main Exception caught here\")\n"
   ]
  },
  {
   "cell_type": "code",
   "execution_count": 7,
   "id": "22892bb2",
   "metadata": {},
   "outputs": [
    {
     "name": "stdout",
     "output_type": "stream",
     "text": [
      "This is not a valid number \n"
     ]
    }
   ],
   "source": [
    "try:\n",
    "    num=int(input(\"Enter a Number:\"))\n",
    "    result=10/num\n",
    "except ValueError:\n",
    "    print(\"This is not a valid number \")\n",
    "except ZeroDivisionError:\n",
    "    print(\"Enter denominator greater than 0\")\n",
    "except Exception as ex:\n",
    "    print(ex)"
   ]
  },
  {
   "cell_type": "code",
   "execution_count": 9,
   "id": "e8897ebf",
   "metadata": {},
   "outputs": [
    {
     "name": "stdout",
     "output_type": "stream",
     "text": [
      "Enter a valid number \n",
      "Execution Complete.\n"
     ]
    }
   ],
   "source": [
    "# try, except,else and finally block\n",
    "try:\n",
    "    num=int(input(\"Enter a number :\"))\n",
    "    result=10/num\n",
    "except ValueError:\n",
    "    print(\"Enter a valid number \")\n",
    "except ZeroDivisionError:\n",
    "    print(\"You can not divide by zero\")\n",
    "except Exception as ex:\n",
    "    print(ex)\n",
    "else:\n",
    "    print(f\"The Result is {result}\") ## if the above block did not raise any exception then it will work\n",
    "finally:\n",
    "    print(\"Execution Complete.\")   ## This section will run whether there will be error or not. "
   ]
  },
  {
   "cell_type": "code",
   "execution_count": null,
   "id": "665d78a1",
   "metadata": {},
   "outputs": [],
   "source": []
  }
 ],
 "metadata": {
  "kernelspec": {
   "display_name": "Python 3",
   "language": "python",
   "name": "python3"
  },
  "language_info": {
   "codemirror_mode": {
    "name": "ipython",
    "version": 3
   },
   "file_extension": ".py",
   "mimetype": "text/x-python",
   "name": "python",
   "nbconvert_exporter": "python",
   "pygments_lexer": "ipython3",
   "version": "3.10.0"
  }
 },
 "nbformat": 4,
 "nbformat_minor": 5
}
