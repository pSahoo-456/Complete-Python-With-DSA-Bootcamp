{
 "cells": [
  {
   "cell_type": "markdown",
   "id": "17950d3d",
   "metadata": {},
   "source": [
    "#### Read the content from a source text file and write to a destination text file "
   ]
  },
  {
   "cell_type": "code",
   "execution_count": 1,
   "id": "54c87709",
   "metadata": {},
   "outputs": [],
   "source": [
    "with open('source.txt','r')as source_file:\n",
    "    content=source_file.read()\n",
    "with open('destination.txt','w')as destination_file:\n",
    "    destination_file.write(content)"
   ]
  },
  {
   "cell_type": "markdown",
   "id": "00f46152",
   "metadata": {},
   "source": [
    "### Read a text file and count the number of lines , number of words, and characters."
   ]
  },
  {
   "cell_type": "code",
   "execution_count": 3,
   "id": "53f38e0e",
   "metadata": {},
   "outputs": [
    {
     "name": "stdout",
     "output_type": "stream",
     "text": [
      "Lines7,Words:32,Characters:201\n"
     ]
    }
   ],
   "source": [
    "def count_text_file(file_path):\n",
    "\n",
    "    with open(file_path,'r')as file:\n",
    "        lines=file.readlines()\n",
    "        line_count=len(lines)\n",
    "        word_count=sum(len(line.split())for line in lines)\n",
    "        char_count=sum(len(line)for line in lines)\n",
    "    return line_count,word_count,char_count\n",
    "\n",
    "\n",
    "file_path='source.txt'\n",
    "lines,words,characters=count_text_file(file_path)\n",
    "print(f'Lines{lines},Words:{words},Characters:{characters}')\n"
   ]
  },
  {
   "cell_type": "code",
   "execution_count": null,
   "id": "cb65d038",
   "metadata": {},
   "outputs": [],
   "source": []
  }
 ],
 "metadata": {
  "kernelspec": {
   "display_name": "Python 3",
   "language": "python",
   "name": "python3"
  },
  "language_info": {
   "codemirror_mode": {
    "name": "ipython",
    "version": 3
   },
   "file_extension": ".py",
   "mimetype": "text/x-python",
   "name": "python",
   "nbconvert_exporter": "python",
   "pygments_lexer": "ipython3",
   "version": "3.10.0"
  }
 },
 "nbformat": 4,
 "nbformat_minor": 5
}
