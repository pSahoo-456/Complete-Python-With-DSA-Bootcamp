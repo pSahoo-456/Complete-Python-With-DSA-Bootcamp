{
 "cells": [
  {
   "cell_type": "markdown",
   "id": "c1429dd5",
   "metadata": {},
   "source": [
    "## Read and Write Files"
   ]
  },
  {
   "cell_type": "markdown",
   "id": "ae5eb437",
   "metadata": {},
   "source": [
    "#### file handling is a crucial part of any programming language . Python provides built-in functions and methods to read from and write to files , both text and binary . let's see how it works"
   ]
  },
  {
   "cell_type": "code",
   "execution_count": 1,
   "id": "7ac4f5d7",
   "metadata": {},
   "outputs": [
    {
     "name": "stdout",
     "output_type": "stream",
     "text": [
      "hello focus on your carrier path kar \n",
      "nhi to jab nhi hai market mai \n",
      "sab AI kha gaya hai. \n"
     ]
    }
   ],
   "source": [
    "# Read a  whole file \n",
    "with open(\"example.txt\",'r') as file:\n",
    "    content=file.read()\n",
    "    print(content)"
   ]
  },
  {
   "cell_type": "code",
   "execution_count": null,
   "id": "76a95a37",
   "metadata": {},
   "outputs": [
    {
     "name": "stdout",
     "output_type": "stream",
     "text": [
      "hello focus on your carrier path kar \n",
      "\n",
      "nhi to jab nhi hai market mai \n",
      "\n",
      "sab AI kha gaya hai. \n"
     ]
    }
   ],
   "source": [
    "# Readng a file line by line \n",
    "\n",
    "with open(\"example.txt\",'r')as file:\n",
    "    for line in file:\n",
    "        print(line) # strip() removes the newline character"
   ]
  },
  {
   "cell_type": "code",
   "execution_count": 8,
   "id": "cceef796",
   "metadata": {},
   "outputs": [],
   "source": [
    "#Writing on a exsiting  file (Overwriting)\n",
    "\n",
    "with open('example.txt','w') as file:\n",
    "    file.write('Heyyy, are u mad ?? \\n')\n",
    "    file.write(\"Don't worry i'm also a mad.\\n\")"
   ]
  },
  {
   "cell_type": "code",
   "execution_count": 11,
   "id": "31eec056",
   "metadata": {},
   "outputs": [],
   "source": [
    "## Write a file (Without overwriting )\n",
    "with open('example.txt','a')as file:\n",
    "    file.write(\"All creatures are mad!! \\n\")"
   ]
  },
  {
   "cell_type": "code",
   "execution_count": 12,
   "id": "5847b527",
   "metadata": {},
   "outputs": [],
   "source": [
    "## Writing a list of lines to a file \n",
    "lines=['Fisrtline \\n','Second line \\n','Third line \\n']\n",
    "with open('example.txt','a')as file:\n",
    "    file.writelines(lines)"
   ]
  },
  {
   "cell_type": "markdown",
   "id": "bd279052",
   "metadata": {},
   "source": [
    "## Binary files\n",
    "#### .bin extension"
   ]
  },
  {
   "cell_type": "code",
   "execution_count": 13,
   "id": "ac6a1167",
   "metadata": {},
   "outputs": [],
   "source": [
    "# Writing to a binary file\n",
    "data=b'\\x00\\x01\\x02\\x03\\x04'\n",
    "with open('example.bin','wb')as file:\n",
    "    file.write(data)"
   ]
  },
  {
   "cell_type": "code",
   "execution_count": 14,
   "id": "43bd217b",
   "metadata": {},
   "outputs": [
    {
     "name": "stdout",
     "output_type": "stream",
     "text": [
      "b'\\x00\\x01\\x02\\x03\\x04'\n"
     ]
    }
   ],
   "source": [
    "#Reading a binary file\n",
    "with open('example.bin','rb')as file:\n",
    "    content=file.read()\n",
    "    print(content)"
   ]
  },
  {
   "cell_type": "markdown",
   "id": "9f46661f",
   "metadata": {},
   "source": [
    "#### The 'W+' mode in python is used to open a file for both reading and writing. If the file does not exist, it will be created .If the file exists,it's content is truncated (i.e the file is overwriten)."
   ]
  },
  {
   "cell_type": "code",
   "execution_count": 20,
   "id": "41e6e5a0",
   "metadata": {},
   "outputs": [
    {
     "name": "stdout",
     "output_type": "stream",
     "text": [
      "hello Prakash\n",
      "This is a new Line \n",
      "\n"
     ]
    }
   ],
   "source": [
    "with open('source.txt','w+')as file:\n",
    "    file.write(\"hello Prakash\\n\")\n",
    "    file.write(\"This is a new Line \\n\")\n",
    "\n",
    "    ## Move to the cursor to the beginig\n",
    "    file.seek(0)\n",
    "    content=file.read()\n",
    "    print(content)\n"
   ]
  }
 ],
 "metadata": {
  "kernelspec": {
   "display_name": "Python 3",
   "language": "python",
   "name": "python3"
  },
  "language_info": {
   "codemirror_mode": {
    "name": "ipython",
    "version": 3
   },
   "file_extension": ".py",
   "mimetype": "text/x-python",
   "name": "python",
   "nbconvert_exporter": "python",
   "pygments_lexer": "ipython3",
   "version": "3.10.0"
  }
 },
 "nbformat": 4,
 "nbformat_minor": 5
}
