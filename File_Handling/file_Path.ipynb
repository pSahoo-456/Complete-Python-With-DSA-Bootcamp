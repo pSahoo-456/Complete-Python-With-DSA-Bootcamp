{
 "cells": [
  {
   "cell_type": "code",
   "execution_count": 1,
   "id": "d823b554",
   "metadata": {},
   "outputs": [
    {
     "name": "stdout",
     "output_type": "stream",
     "text": [
      "Directory 'package' created\n"
     ]
    }
   ],
   "source": [
    "# Create a directory\n",
    "import os\n",
    "new_directory='package'\n",
    "os.mkdir(new_directory)\n",
    "print(f\"Directory '{new_directory}' created\")"
   ]
  },
  {
   "cell_type": "code",
   "execution_count": 2,
   "id": "90fd4808",
   "metadata": {},
   "outputs": [
    {
     "name": "stdout",
     "output_type": "stream",
     "text": [
      "['destination.txt', 'example.bin', 'example.txt', 'file_Operation.ipynb', 'file_Path.ipynb', 'package', 'Questions.ipynb', 'source.txt']\n"
     ]
    }
   ],
   "source": [
    "# List files and directories\n",
    "items=os.listdir('.')\n",
    "print(items)"
   ]
  },
  {
   "cell_type": "code",
   "execution_count": null,
   "id": "610cf691",
   "metadata": {},
   "outputs": [],
   "source": [
    "## Joining paths\n",
    "dir_name='folder'\n",
    "file_name=\"file.txt\"\n",
    "full_path=os.path.join(dir_name,file_name)\n",
    "print(full_path)"
   ]
  },
  {
   "cell_type": "code",
   "execution_count": 3,
   "id": "3402bf49",
   "metadata": {},
   "outputs": [
    {
     "name": "stdout",
     "output_type": "stream",
     "text": [
      "The Path'example.txt'exists\n"
     ]
    }
   ],
   "source": [
    "path='example.txt'\n",
    "if os.path.exists(path):\n",
    "    print(f\"The Path'{path}'exists\")\n",
    "else:\n",
    "    print(f\"The path '{path}' doesnot exist\")"
   ]
  },
  {
   "cell_type": "code",
   "execution_count": 5,
   "id": "cea036fb",
   "metadata": {},
   "outputs": [
    {
     "name": "stdout",
     "output_type": "stream",
     "text": [
      "d:\\Complete-Python-With-DSA-Bootcamp\\File Handling\\example.txt\n"
     ]
    }
   ],
   "source": [
    "## Getting the absoulte  path\n",
    "relative_path='example.txt'\n",
    "absoulte_path=os.path.abspath(relative_path)\n",
    "print(absoulte_path)"
   ]
  },
  {
   "cell_type": "code",
   "execution_count": null,
   "id": "f4999808",
   "metadata": {},
   "outputs": [],
   "source": []
  }
 ],
 "metadata": {
  "kernelspec": {
   "display_name": "Python 3",
   "language": "python",
   "name": "python3"
  },
  "language_info": {
   "codemirror_mode": {
    "name": "ipython",
    "version": 3
   },
   "file_extension": ".py",
   "mimetype": "text/x-python",
   "name": "python",
   "nbconvert_exporter": "python",
   "pygments_lexer": "ipython3",
   "version": "3.10.0"
  }
 },
 "nbformat": 4,
 "nbformat_minor": 5
}
