{
 "cells": [
  {
   "cell_type": "markdown",
   "id": "1fcc69a3",
   "metadata": {},
   "source": [
    "# Function is a Block of code that Performs a specific task.Functions helps in Organizing code , reusing code and improving readability"
   ]
  },
  {
   "cell_type": "markdown",
   "id": "f2a4599b",
   "metadata": {},
   "source": [
    "## Syntax:-\n",
    "\n",
    "def Function_name(Params):\n",
    "\n",
    "    \"\"\"Docstring\"\"\"\n",
    "\n",
    "    #Function Body\n",
    "    \n",
    "    return expression\n"
   ]
  },
  {
   "cell_type": "markdown",
   "id": "7b488da8",
   "metadata": {},
   "source": [
    "## 🔹 1. Function Basics – Defining & Calling"
   ]
  },
  {
   "cell_type": "code",
   "execution_count": 3,
   "id": "117613dd",
   "metadata": {},
   "outputs": [
    {
     "name": "stdout",
     "output_type": "stream",
     "text": [
      "Hello, Python Learner!\n"
     ]
    }
   ],
   "source": [
    "def greet():\n",
    "    print(\"Hello, Python Learner!\")\n",
    "\n",
    "# Call the function:\n",
    "greet()\n"
   ]
  },
  {
   "cell_type": "markdown",
   "id": "8c79c992",
   "metadata": {},
   "source": [
    "📌 def keyword is used to define a function.\n",
    "\n",
    "📌 Parentheses () are used to call it."
   ]
  },
  {
   "cell_type": "markdown",
   "id": "bd6659f8",
   "metadata": {},
   "source": [
    "## 🔹 2. Function with Parameters (Inputs)"
   ]
  },
  {
   "cell_type": "code",
   "execution_count": 4,
   "id": "afa6ecc6",
   "metadata": {},
   "outputs": [
    {
     "name": "stdout",
     "output_type": "stream",
     "text": [
      "Hello Prakash\n",
      "Hello Ashu\n"
     ]
    }
   ],
   "source": [
    "def greet(name):\n",
    "    print(\"Hello\", name)\n",
    "\n",
    "greet(\"Prakash\")\n",
    "greet(\"Ashu\")\n",
    "\n",
    "\n"
   ]
  },
  {
   "cell_type": "markdown",
   "id": "7a604318",
   "metadata": {},
   "source": [
    "## name is a parameter (used in definition).\n",
    "\n",
    "## \"Prakash\" is an argument (actual value passed)."
   ]
  },
  {
   "cell_type": "markdown",
   "id": "37f6263c",
   "metadata": {},
   "source": [
    "## 🔹 3. Function with Return Values \n",
    "### Sometimes functions calculate something and send it back using return"
   ]
  },
  {
   "cell_type": "code",
   "execution_count": 5,
   "id": "1764000a",
   "metadata": {},
   "outputs": [
    {
     "name": "stdout",
     "output_type": "stream",
     "text": [
      "8\n"
     ]
    }
   ],
   "source": [
    "def add(a, b):\n",
    "    return a + b\n",
    "\n",
    "result = add(5, 3)\n",
    "print(result)  # 8\n"
   ]
  },
  {
   "cell_type": "markdown",
   "id": "74be1f5a",
   "metadata": {},
   "source": [
    "## 🔹 4. Types of Arguments\n",
    "Type\t        |       Example\t            |           Description\n",
    "\n",
    "Positional      |\t greet(\"Alice\")\t        |         Order matters\n",
    "\n",
    "Keyword         | \t greet(name=\"Alice\")\t|        Order doesn't matter\n",
    "\n",
    "Default\tdef     |    greet(name=\"Guest\")    |        Uses default if no value passed\n",
    "\n",
    "Variable-length\t|     *args, **kwargs\t    |        Accepts multiple inputs"
   ]
  },
  {
   "cell_type": "code",
   "execution_count": 6,
   "id": "7d9aeecb",
   "metadata": {},
   "outputs": [
    {
     "name": "stdout",
     "output_type": "stream",
     "text": [
      "Hello Guest\n",
      "Hello Ashu\n",
      "6\n",
      "name Prakash\n",
      "age 21\n"
     ]
    }
   ],
   "source": [
    "def greet(name=\"Guest\"):\n",
    "    print(\"Hello\", name)\n",
    "\n",
    "greet()                    # Hello Guest\n",
    "greet(\"Ashu\")             # Hello Ashu\n",
    "\n",
    "def sum_all(*numbers):     # *args collects values into tuple\n",
    "    return sum(numbers)\n",
    "\n",
    "print(sum_all(1, 2, 3))    # 6\n",
    "\n",
    "def show_info(**info):     # **kwargs collects keyword arguments into a dict\n",
    "    for key, value in info.items():\n",
    "        print(key, value)\n",
    "\n",
    "show_info(name=\"Prakash\", age=21)\n"
   ]
  },
  {
   "cell_type": "markdown",
   "id": "f311ac27",
   "metadata": {},
   "source": [
    "## 🔹 5. Scope of Variables\n",
    "### 🔐 Local vs Global"
   ]
  },
  {
   "cell_type": "code",
   "execution_count": 7,
   "id": "bffb4161",
   "metadata": {},
   "outputs": [
    {
     "name": "stdout",
     "output_type": "stream",
     "text": [
      "5\n",
      "10\n"
     ]
    }
   ],
   "source": [
    "x = 10  # global\n",
    "\n",
    "def func():\n",
    "    x = 5  # local\n",
    "    print(x)\n",
    "\n",
    "func()       # 5\n",
    "print(x)     # 10\n"
   ]
  },
  {
   "cell_type": "markdown",
   "id": "c5adb989",
   "metadata": {},
   "source": [
    "## Variables declared inside a function are local.\n",
    "\n",
    "## Outside ones are global.\n",
    "\n",
    "### If you want to modify global inside a function, use global keyword."
   ]
  },
  {
   "cell_type": "code",
   "execution_count": null,
   "id": "a0e70d2e",
   "metadata": {},
   "outputs": [
    {
     "name": "stdout",
     "output_type": "stream",
     "text": [
      "22 is Even\n"
     ]
    }
   ],
   "source": [
    "# Q 1.\n",
    "def even_odd(num):\n",
    "    if num%2==0:\n",
    "        print(f\"{num} is Even\")\n",
    "    else:\n",
    "        print(f\"{num} is Odd\")\n",
    "\n",
    "even_odd(22)"
   ]
  },
  {
   "cell_type": "code",
   "execution_count": 11,
   "id": "ab633684",
   "metadata": {},
   "outputs": [
    {
     "name": "stdout",
     "output_type": "stream",
     "text": [
      "77.0\n",
      "25.0\n"
     ]
    }
   ],
   "source": [
    "# Q 2. Temprature conversion \n",
    "def convert_temp(temp,unit):\n",
    "    \"\"\"This Function converts cels to faren and vice versa\"\"\"\n",
    "    if unit==\"c\":\n",
    "        return temp*9/5 +32\n",
    "    elif unit=='f':\n",
    "        return (temp-32)*5/9\n",
    "    else:\n",
    "        return None\n",
    "\n",
    "print(convert_temp(25,'c'))\n",
    "print(convert_temp(77,'f'))\n"
   ]
  },
  {
   "cell_type": "code",
   "execution_count": null,
   "id": "b192427b",
   "metadata": {},
   "outputs": [],
   "source": []
  }
 ],
 "metadata": {
  "kernelspec": {
   "display_name": "Python 3",
   "language": "python",
   "name": "python3"
  },
  "language_info": {
   "codemirror_mode": {
    "name": "ipython",
    "version": 3
   },
   "file_extension": ".py",
   "mimetype": "text/x-python",
   "name": "python",
   "nbconvert_exporter": "python",
   "pygments_lexer": "ipython3",
   "version": "3.10.0"
  }
 },
 "nbformat": 4,
 "nbformat_minor": 5
}
