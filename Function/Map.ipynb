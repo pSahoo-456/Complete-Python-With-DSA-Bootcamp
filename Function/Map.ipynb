{
 "cells": [
  {
   "cell_type": "markdown",
   "id": "7214b585",
   "metadata": {},
   "source": [
    "## A map function applies a Given Function to all items in an input list (or any iterable) and return a map Object (iterator)\n",
    "\n",
    "## map(function,iterable)\n",
    "\n",
    "## use when u want to transform or modify every elemnt in a list.\n",
    "\n"
   ]
  },
  {
   "cell_type": "code",
   "execution_count": 1,
   "id": "3a7c22ce",
   "metadata": {},
   "outputs": [
    {
     "data": {
      "text/plain": [
       "[1, 4, 9, 16, 25]"
      ]
     },
     "execution_count": 1,
     "metadata": {},
     "output_type": "execute_result"
    }
   ],
   "source": [
    "#Example-\n",
    "\n",
    "def Square(x):\n",
    "    return x*x\n",
    "Square(10)\n",
    "\n",
    "num=[1,2,3,4,5]\n",
    "list(map(Square,num))"
   ]
  },
  {
   "cell_type": "code",
   "execution_count": 2,
   "id": "ee023cc6",
   "metadata": {},
   "outputs": [
    {
     "data": {
      "text/plain": [
       "[1, 4, 9, 16, 25, 36, 49]"
      ]
     },
     "execution_count": 2,
     "metadata": {},
     "output_type": "execute_result"
    }
   ],
   "source": [
    "# MAp with lambda\n",
    "\n",
    "num=[1,2,3,4,5,6,7]\n",
    "list(map(lambda x:x*x,num))"
   ]
  },
  {
   "cell_type": "code",
   "execution_count": 4,
   "id": "0fa6e5d3",
   "metadata": {},
   "outputs": [
    {
     "name": "stdout",
     "output_type": "stream",
     "text": [
      "[4, 6, 8]\n"
     ]
    }
   ],
   "source": [
    "#Map with Multiple iterator\n",
    "num1=[1,2,3]\n",
    "num2=[3,4,5]\n",
    "added_num=list(map(lambda x,y:x+y,num1,num2))\n",
    "print(added_num)"
   ]
  },
  {
   "cell_type": "code",
   "execution_count": 5,
   "id": "a406190f",
   "metadata": {},
   "outputs": [
    {
     "name": "stdout",
     "output_type": "stream",
     "text": [
      "[1, 2, 3, 4]\n"
     ]
    }
   ],
   "source": [
    "#Map to convert a list of Strings to integers\n",
    "\n",
    "str_num=['1','2','3','4']\n",
    "int_num=list(map(int,str_num))\n",
    "print(int_num)"
   ]
  },
  {
   "cell_type": "code",
   "execution_count": 10,
   "id": "462c0520",
   "metadata": {},
   "outputs": [
    {
     "name": "stdout",
     "output_type": "stream",
     "text": [
      "['APPLE', 'BANANA', 'CHHERY']\n"
     ]
    }
   ],
   "source": [
    "#To convert uppercase\n",
    "\n",
    "words=['apple','banana','chhery']\n",
    "uppercase_string=list(map(str.upper,words))\n",
    "print(uppercase_string)"
   ]
  },
  {
   "cell_type": "code",
   "execution_count": null,
   "id": "cefb878f",
   "metadata": {},
   "outputs": [
    {
     "data": {
      "text/plain": [
       "['Prakash', 'Hitesh']"
      ]
     },
     "execution_count": 20,
     "metadata": {},
     "output_type": "execute_result"
    }
   ],
   "source": [
    "\n",
    "person=[\n",
    "    {'name':'Prakash','age':21},\n",
    "    {'name':'Hitesh','age':23}\n",
    "]\n",
    "\n",
    "def get_name(person):\n",
    "    return person['name']\n",
    "\n",
    "\n",
    "list(map(get_name,person))"
   ]
  },
  {
   "cell_type": "code",
   "execution_count": null,
   "id": "c1aa83ea",
   "metadata": {},
   "outputs": [],
   "source": []
  }
 ],
 "metadata": {
  "kernelspec": {
   "display_name": "Python 3",
   "language": "python",
   "name": "python3"
  },
  "language_info": {
   "codemirror_mode": {
    "name": "ipython",
    "version": 3
   },
   "file_extension": ".py",
   "mimetype": "text/x-python",
   "name": "python",
   "nbconvert_exporter": "python",
   "pygments_lexer": "ipython3",
   "version": "3.10.0"
  }
 },
 "nbformat": 4,
 "nbformat_minor": 5
}
