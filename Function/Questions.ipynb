{
 "cells": [
  {
   "cell_type": "markdown",
   "id": "90f178c6",
   "metadata": {},
   "source": [
    "### Password strength Checker "
   ]
  },
  {
   "cell_type": "code",
   "execution_count": null,
   "id": "9c3b1a9d",
   "metadata": {},
   "outputs": [],
   "source": [
    "\n",
    "'''\n",
    "    Check if the password is strong based on the following criteria:\n",
    "    - At least 8 characters long\n",
    "    - Contains at least one uppercase letter\n",
    "    - Contains at least one lowercase letter\n",
    "    - Contains at least one digit\n",
    "    - Contains at least one special character (e.g., !@#$%^&*()-_=+[]{}|;:'\",.<>?/)\n",
    "    \n",
    "    :param password: The password to check\n",
    "    :return: True if the password is strong, False \n",
    "    '''\n"
   ]
  },
  {
   "cell_type": "code",
   "execution_count": null,
   "id": "a60da5d5",
   "metadata": {},
   "outputs": [
    {
     "name": "stdout",
     "output_type": "stream",
     "text": [
      "True\n",
      "False\n"
     ]
    }
   ],
   "source": [
    "def is_strong_Password(password):\n",
    "    if len(password)<8:\n",
    "       return False\n",
    "    if not any (char.isdigit() for char in password):\n",
    "       return False\n",
    "    if not any(char.isupper() for char in password):\n",
    "       return False\n",
    "    if not any(char.islower()for char in password):\n",
    "       return False\n",
    "    if not any(char in \"!@#$%^&*()-_=+[]{}|;:,.<>?/\" for char in password):\n",
    "       return False\n",
    "    else:\n",
    "       return True\n",
    "print(is_strong_Password('Prakash@2004'))\n",
    "print(is_strong_Password('prakash123'))\n",
    "       "
   ]
  },
  {
   "cell_type": "code",
   "execution_count": null,
   "id": "4e3a3453",
   "metadata": {},
   "outputs": [],
   "source": []
  },
  {
   "cell_type": "markdown",
   "id": "1c2b0f80",
   "metadata": {},
   "source": [
    "### Calculate the total cost of items in a shoping cart."
   ]
  },
  {
   "cell_type": "code",
   "execution_count": 4,
   "id": "ff81b655",
   "metadata": {},
   "outputs": [
    {
     "data": {
      "text/plain": [
       "8.3"
      ]
     },
     "execution_count": 4,
     "metadata": {},
     "output_type": "execute_result"
    }
   ],
   "source": [
    "def calculate_total_cost(cart):\n",
    "    total_cost=0\n",
    "    for i in cart:\n",
    "        total_cost+=i['price']*i['quantity']\n",
    "    return total_cost\n",
    "## Example cart data\n",
    "cart=[\n",
    "    {'name':'Apple','price':0.5,'quantity':4},\n",
    "    {'name':'Banana','price':0.9,'quantity':5},\n",
    "    {'name':'orange','price':0.6,'quantity':3}\n",
    "]\n",
    "\n",
    "calculate_total_cost(cart)"
   ]
  },
  {
   "cell_type": "markdown",
   "id": "cedeec16",
   "metadata": {},
   "source": [
    "### Check if a string is palindrome or not"
   ]
  },
  {
   "cell_type": "code",
   "execution_count": 9,
   "id": "43909110",
   "metadata": {},
   "outputs": [
    {
     "data": {
      "text/plain": [
       "True"
      ]
     },
     "execution_count": 9,
     "metadata": {},
     "output_type": "execute_result"
    }
   ],
   "source": [
    "def is_palindrome(string):\n",
    "    string=string.lower().replace(\" \",\"\")\n",
    "    return string==string[::-1]\n",
    "is_palindrome('abA')"
   ]
  },
  {
   "cell_type": "markdown",
   "id": "1a32b1c5",
   "metadata": {},
   "source": [
    "### Factorial of a number using Recursion "
   ]
  },
  {
   "cell_type": "code",
   "execution_count": null,
   "id": "048023e0",
   "metadata": {},
   "outputs": [
    {
     "data": {
      "text/plain": [
       "120"
      ]
     },
     "execution_count": 13,
     "metadata": {},
     "output_type": "execute_result"
    }
   ],
   "source": [
    "def factorial(num):\n",
    "    if num==0:\n",
    "        return 1\n",
    "    else:\n",
    "        return num* factorial(num-1)\n",
    "factorial(5)"
   ]
  },
  {
   "cell_type": "markdown",
   "id": "1f583799",
   "metadata": {},
   "source": [
    "### A function to read a file and count frequence of each word "
   ]
  },
  {
   "cell_type": "code",
   "execution_count": 20,
   "id": "7322642f",
   "metadata": {},
   "outputs": [
    {
     "name": "stdout",
     "output_type": "stream",
     "text": [
      "{'hello': 1, \"i'm\": 2, 'prakash': 1, 'sahoo': 1, 'passionate': 1, 'about': 1, 'ai': 1, 'and': 1, 'datascience': 1}\n"
     ]
    }
   ],
   "source": [
    "def count_word_frequency(file_path):\n",
    "    word_count = {}\n",
    "    with open(file_path, 'r') as file:\n",
    "        for line in file:\n",
    "            words = line.split()\n",
    "            for word in words:\n",
    "                # Remove punctuation from both ends and convert to lowercase\n",
    "                clean_word = word.lower().strip('.,!?:;\"\\'')\n",
    "                if clean_word:  # skip empty strings\n",
    "                    word_count[clean_word] = word_count.get(clean_word, 0) + 1\n",
    "\n",
    "    return word_count\n",
    "\n",
    "filepath = 'sample.txt'\n",
    "word_frequency = count_word_frequency(filepath)\n",
    "print(word_frequency)"
   ]
  },
  {
   "cell_type": "code",
   "execution_count": null,
   "id": "cc9d6bed",
   "metadata": {},
   "outputs": [],
   "source": []
  }
 ],
 "metadata": {
  "kernelspec": {
   "display_name": "Python 3",
   "language": "python",
   "name": "python3"
  },
  "language_info": {
   "codemirror_mode": {
    "name": "ipython",
    "version": 3
   },
   "file_extension": ".py",
   "mimetype": "text/x-python",
   "name": "python",
   "nbconvert_exporter": "python",
   "pygments_lexer": "ipython3",
   "version": "3.10.0"
  }
 },
 "nbformat": 4,
 "nbformat_minor": 5
}
