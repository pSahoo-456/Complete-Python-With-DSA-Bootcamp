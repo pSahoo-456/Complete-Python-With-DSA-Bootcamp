{
 "cells": [
  {
   "cell_type": "markdown",
   "id": "61e45827",
   "metadata": {},
   "source": [
    "## The Filter() function constructs an iterator from elements of an iterable for which a function returns true.It is used to filter out items from a list (any iterable) based on a condition.\n",
    "\n",
    "## -filter(function,iterable)"
   ]
  },
  {
   "cell_type": "code",
   "execution_count": 1,
   "id": "0d5a703c",
   "metadata": {},
   "outputs": [
    {
     "data": {
      "text/plain": [
       "<filter at 0x25866089120>"
      ]
     },
     "execution_count": 1,
     "metadata": {},
     "output_type": "execute_result"
    }
   ],
   "source": [
    "#example-\n",
    "def even(num):\n",
    "    if num%2==0:\n",
    "        return True\n",
    "    else:\n",
    "        return False\n",
    "\n",
    "list=[1,2,3,4,5,6]\n",
    "filter(even,list)\n"
   ]
  },
  {
   "cell_type": "markdown",
   "id": "fb45d52e",
   "metadata": {},
   "source": [
    "### Filter with lambda function\n"
   ]
  },
  {
   "cell_type": "code",
   "execution_count": 5,
   "id": "2269bfee",
   "metadata": {},
   "outputs": [
    {
     "name": "stdout",
     "output_type": "stream",
     "text": [
      "[6]\n"
     ]
    }
   ],
   "source": [
    "\n",
    "\n",
    "nums=[1,2,3,4,5,6,]\n",
    "greater_than_five=list(filter(lambda x:x>5,nums))\n",
    "print(greater_than_five)\n",
    "\n"
   ]
  },
  {
   "cell_type": "markdown",
   "id": "176b8047",
   "metadata": {},
   "source": [
    "## Filter With Multiple Condition"
   ]
  },
  {
   "cell_type": "code",
   "execution_count": 8,
   "id": "4ac065ae",
   "metadata": {},
   "outputs": [
    {
     "name": "stdout",
     "output_type": "stream",
     "text": [
      "[6, 8]\n"
     ]
    }
   ],
   "source": [
    "nums=[1,2,3,4,5,6,7,8,9]\n",
    "even_greater_than_five=list(filter(lambda x:x>5 and x%2==0,nums))\n",
    "print(even_greater_than_five)"
   ]
  },
  {
   "cell_type": "code",
   "execution_count": 12,
   "id": "273295b7",
   "metadata": {},
   "outputs": [
    {
     "name": "stdout",
     "output_type": "stream",
     "text": [
      "[{'name': 'Prakash', 'marks': 85}, {'name': 'Anjani', 'marks': 90}, {'name': 'Susmita', 'marks': 87}, {'name': 'Lipsa', 'marks': 88}]\n"
     ]
    }
   ],
   "source": [
    "Students=[\n",
    "    {'name':\"Prakash\",'marks':85},\n",
    "    {'name':\"Anjani\",\"marks\":90},\n",
    "    {'name':\"Susmita\",\"marks\":87},\n",
    "    {'name':\"Lipsa\",\"marks\":88}\n",
    "    \n",
    "]\n",
    "\n",
    "passed=list(filter(lambda Students :Students[\"marks\"]>=50,Students))\n",
    "print(passed)"
   ]
  },
  {
   "cell_type": "code",
   "execution_count": null,
   "id": "bea36663",
   "metadata": {},
   "outputs": [],
   "source": []
  },
  {
   "cell_type": "markdown",
   "id": "c3ec642e",
   "metadata": {},
   "source": [
    "## Reduce Function\n",
    "\n",
    "### It keep applying the function to the accumaulated result and next element.\n"
   ]
  },
  {
   "cell_type": "code",
   "execution_count": 13,
   "id": "657ba057",
   "metadata": {},
   "outputs": [
    {
     "name": "stdout",
     "output_type": "stream",
     "text": [
      "120\n"
     ]
    }
   ],
   "source": [
    "from functools import reduce\n",
    "\n",
    "nums=[1,2,3,4,5]\n",
    "product=reduce(lambda x,y:x*y,nums)\n",
    "print(product)"
   ]
  },
  {
   "cell_type": "markdown",
   "id": "d538ff03",
   "metadata": {},
   "source": [
    "#### let;s combine all and see a example \n",
    "\n",
    "#### Q.Square only the even numbers and return results."
   ]
  },
  {
   "cell_type": "code",
   "execution_count": 15,
   "id": "d4692f12",
   "metadata": {},
   "outputs": [
    {
     "name": "stdout",
     "output_type": "stream",
     "text": [
      "[3600, 4900, 7056, 5776, 8100, 4356]\n"
     ]
    }
   ],
   "source": [
    "marks=[60,70,84,76,90,29,66,33]\n",
    "result=list(map(lambda x:x**2,filter(lambda x:x%2==0,marks)))\n",
    "\n",
    "\n",
    "print(result)"
   ]
  },
  {
   "cell_type": "code",
   "execution_count": null,
   "id": "7c2510de",
   "metadata": {},
   "outputs": [],
   "source": []
  }
 ],
 "metadata": {
  "kernelspec": {
   "display_name": "Python 3",
   "language": "python",
   "name": "python3"
  },
  "language_info": {
   "codemirror_mode": {
    "name": "ipython",
    "version": 3
   },
   "file_extension": ".py",
   "mimetype": "text/x-python",
   "name": "python",
   "nbconvert_exporter": "python",
   "pygments_lexer": "ipython3",
   "version": "3.10.0"
  }
 },
 "nbformat": 4,
 "nbformat_minor": 5
}
