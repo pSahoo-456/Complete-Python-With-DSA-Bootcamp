{
 "cells": [
  {
   "cell_type": "markdown",
   "id": "6028003c",
   "metadata": {},
   "source": [
    "# # Lmabda Functions are small anonymous Function defined using Lambda Keyword.They can have any number of argument but only one Expresion .\n",
    "\n",
    "## - They are commnly used for Short Operations or as arguments to higher order function \n",
    "\n",
    "## -Syntax    \n",
    "\n",
    "## *lambda argument:expresion*"
   ]
  },
  {
   "cell_type": "code",
   "execution_count": 3,
   "id": "5d3f4980",
   "metadata": {},
   "outputs": [
    {
     "name": "stdout",
     "output_type": "stream",
     "text": [
      "5\n",
      "False\n"
     ]
    }
   ],
   "source": [
    "#example 1\n",
    "\n",
    "addition=lambda a,b:a+b\n",
    "print(addition(2,3))\n",
    "\n",
    "\n",
    "#Example 2\n",
    "even_odd=lambda num:num%2==0\n",
    "print(even_odd(5))\n"
   ]
  },
  {
   "cell_type": "code",
   "execution_count": null,
   "id": "6cec8e2b",
   "metadata": {},
   "outputs": [],
   "source": []
  },
  {
   "cell_type": "code",
   "execution_count": null,
   "id": "8e198d30",
   "metadata": {},
   "outputs": [],
   "source": []
  },
  {
   "cell_type": "code",
   "execution_count": null,
   "id": "69ef8b09",
   "metadata": {},
   "outputs": [],
   "source": []
  },
  {
   "cell_type": "markdown",
   "id": "2c500df9",
   "metadata": {},
   "source": []
  }
 ],
 "metadata": {
  "kernelspec": {
   "display_name": "Python 3",
   "language": "python",
   "name": "python3"
  },
  "language_info": {
   "codemirror_mode": {
    "name": "ipython",
    "version": 3
   },
   "file_extension": ".py",
   "mimetype": "text/x-python",
   "name": "python",
   "nbconvert_exporter": "python",
   "pygments_lexer": "ipython3",
   "version": "3.10.0"
  }
 },
 "nbformat": 4,
 "nbformat_minor": 5
}
