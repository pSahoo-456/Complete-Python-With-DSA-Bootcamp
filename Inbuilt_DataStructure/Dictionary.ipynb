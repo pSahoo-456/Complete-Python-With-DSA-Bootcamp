{
 "cells": [
  {
   "cell_type": "markdown",
   "id": "5df34734",
   "metadata": {},
   "source": [
    "# Dictionaries are unorderd collections of items.They store data in Key-Value pairs.\n",
    "*key Must be unique and immutable (e.g-tuples,strings,nums etc) while Values can be any type.*\n",
    "\n",
    "\n",
    "\n"
   ]
  },
  {
   "cell_type": "markdown",
   "id": "6003e1c3",
   "metadata": {},
   "source": [
    "## Creating Dict\n"
   ]
  },
  {
   "cell_type": "code",
   "execution_count": 4,
   "id": "2da4648b",
   "metadata": {},
   "outputs": [
    {
     "name": "stdout",
     "output_type": "stream",
     "text": [
      "{'name': 'Prakash', 'age': 21, 'city': 'Bhubaneswar'}\n",
      "{}\n"
     ]
    }
   ],
   "source": [
    "#Using curly braces\n",
    "person={\"name\":\"Prakash\",\"age\":21,\"city\":\"Bhubaneswar\"}\n",
    "\n",
    "#using dict() constructor\n",
    "person=dict(name=\"Prakash\",age=21,city=\"Bhubaneswar\")\n",
    "\n",
    "print(person)\n",
    "\n",
    "#Empty Dict\n",
    "em_dict={}\n",
    "em_dict=dict()\n",
    "print(em_dict)"
   ]
  },
  {
   "cell_type": "markdown",
   "id": "1782fcf8",
   "metadata": {},
   "source": [
    "## Accesiing Elemnts\n"
   ]
  },
  {
   "cell_type": "code",
   "execution_count": 6,
   "id": "98c87351",
   "metadata": {},
   "outputs": [
    {
     "name": "stdout",
     "output_type": "stream",
     "text": [
      "Prakash\n",
      "21\n"
     ]
    }
   ],
   "source": [
    "print(person[\"name\"])\n",
    "print(person[\"age\"])"
   ]
  },
  {
   "cell_type": "markdown",
   "id": "d67e82e8",
   "metadata": {},
   "source": [
    "## Or use .get() Method to aviod Key error\n"
   ]
  },
  {
   "cell_type": "code",
   "execution_count": 7,
   "id": "539d6178",
   "metadata": {},
   "outputs": [
    {
     "name": "stdout",
     "output_type": "stream",
     "text": [
      "Prakash\n",
      "Bhubaneswar\n"
     ]
    }
   ],
   "source": [
    "print(person.get(\"name\"))\n",
    "print(person.get(\"city\"))"
   ]
  },
  {
   "cell_type": "markdown",
   "id": "ab122b02",
   "metadata": {},
   "source": [
    "## Modifications\n",
    "\n",
    "Dicts are Mutable , so we can add delete or update elements"
   ]
  },
  {
   "cell_type": "code",
   "execution_count": 9,
   "id": "66dd0615",
   "metadata": {},
   "outputs": [
    {
     "name": "stdout",
     "output_type": "stream",
     "text": [
      "{'name': 'Prakash', 'age': 20, 'city': 'Bhubaneswar'}\n",
      "{'name': 'Prakash', 'age': 20, 'city': 'Bhubaneswar', 'gmail': 'prakash2004sahoo@gmail.com'}\n",
      "{'name': 'Prakash', 'age': 20, 'city': 'Bhubaneswar'}\n"
     ]
    }
   ],
   "source": [
    "#Update\n",
    "person[\"age\"]=20 \n",
    "print(person)\n",
    "#Add new key\n",
    "person[\"gmail\"]=\"prakash2004sahoo@gmail.com\"\n",
    "print(person)\n",
    "#Delete\n",
    "del person[\"gmail\"]\n",
    "print(person)"
   ]
  },
  {
   "cell_type": "markdown",
   "id": "e38a13ea",
   "metadata": {},
   "source": [
    "## Dictionary methods\n"
   ]
  },
  {
   "cell_type": "code",
   "execution_count": 12,
   "id": "093a6127",
   "metadata": {},
   "outputs": [
    {
     "name": "stdout",
     "output_type": "stream",
     "text": [
      "dict_keys(['name', 'age', 'city'])\n",
      "dict_values(['Prakash', 20, 'Bhubaneswar'])\n",
      "dict_items([('name', 'Prakash'), ('age', 20), ('city', 'Bhubaneswar')])\n"
     ]
    }
   ],
   "source": [
    "keys=person.keys()\n",
    "print(keys)\n",
    "\n",
    "values=person.values()\n",
    "print(values)\n",
    "\n",
    "items=person.items()\n",
    "print(items)\n"
   ]
  },
  {
   "cell_type": "code",
   "execution_count": null,
   "id": "bdf9646f",
   "metadata": {},
   "outputs": [
    {
     "name": "stdout",
     "output_type": "stream",
     "text": [
      "{'name': 'Prakash', 'age': 20, 'city': 'Bhubaneswar'}\n",
      "{'name': 'Prakash', 'age': 20, 'city': 'Bhubaneswar'}\n",
      "{'name': 'Prakash2', 'age': 20, 'city': 'Bhubaneswar'}\n",
      "{'name': 'Prakash2', 'age': 20, 'city': 'Bhubaneswar'}\n"
     ]
    }
   ],
   "source": [
    "## Copy\n",
    "person_copy=person\n",
    "print(person)\n",
    "print(person_copy)\n",
    "\n",
    "person[\"name\"]=\"Prakash2\"\n",
    "print(person)\n",
    "print(person_copy)\n",
    "\n",
    "#here person and person_copy refer to the same location\n",
    "\n",
    "# To avoid the problem we will shallow copy\n"
   ]
  },
  {
   "cell_type": "code",
   "execution_count": 15,
   "id": "68b53c41",
   "metadata": {},
   "outputs": [
    {
     "name": "stdout",
     "output_type": "stream",
     "text": [
      "{'name': 'Prakash3', 'age': 20, 'city': 'Bhubaneswar'}\n",
      "{'name': 'Prakash2', 'age': 20, 'city': 'Bhubaneswar'}\n"
     ]
    }
   ],
   "source": [
    "#Shallow copy\n",
    "\n",
    "person_copy1=person.copy()\n",
    "person[\"name\"]=\"Prakash3\"\n",
    "#this will crete a shallow copy of this means store it in new memory location \n",
    "print(person)\n",
    "print(person_copy1)"
   ]
  },
  {
   "cell_type": "markdown",
   "id": "0daa5f1e",
   "metadata": {},
   "source": [
    "## Iterating over Dict"
   ]
  },
  {
   "cell_type": "code",
   "execution_count": 18,
   "id": "6e72daa7",
   "metadata": {},
   "outputs": [
    {
     "name": "stdout",
     "output_type": "stream",
     "text": [
      "name Prakash3\n",
      "age 20\n",
      "city Bhubaneswar\n",
      "\n",
      "name:Prakash3\n",
      "age:20\n",
      "city:Bhubaneswar\n"
     ]
    }
   ],
   "source": [
    "#1. BY keys \n",
    "for key in person:\n",
    "    print(key,person[key])\n",
    "\n",
    "print()\n",
    "\n",
    "#2.By values\n",
    "for key,value  in person.items():\n",
    "    print(f\"{key}:{value}\")   "
   ]
  },
  {
   "cell_type": "markdown",
   "id": "28df0fa6",
   "metadata": {},
   "source": [
    "## Nested Dict"
   ]
  },
  {
   "cell_type": "code",
   "execution_count": 19,
   "id": "2d169171",
   "metadata": {},
   "outputs": [
    {
     "name": "stdout",
     "output_type": "stream",
     "text": [
      "Prakash\n"
     ]
    }
   ],
   "source": [
    "Students={\n",
    "    \"A001\":{\"name\":\"Prakash\",\"grade\":\"A\"},\n",
    "    \"A002\":{\"name\":\"Anjani\",\"grade\":\"O\"},\n",
    "    \"A003\":{\"name\":\"Ashrita\",\"grade\":\"B\"}\n",
    "}\n",
    "\n",
    "print(Students[\"A001\"][\"name\"])"
   ]
  },
  {
   "cell_type": "markdown",
   "id": "0ed2e326",
   "metadata": {},
   "source": [
    "Q// use a dict to count the Frequency of elemnts in the list.\n",
    "\n"
   ]
  },
  {
   "cell_type": "code",
   "execution_count": 21,
   "id": "a1ca2f2c",
   "metadata": {},
   "outputs": [
    {
     "name": "stdout",
     "output_type": "stream",
     "text": [
      "{1: 1, 2: 3, 3: 1, 4: 2, 5: 1, 6: 1, 7: 1, 8: 1}\n"
     ]
    }
   ],
   "source": [
    "numbers=[1,2,2,2,3,4,4,5,6,7,8]\n",
    "frequency={}\n",
    "\n",
    "for num in numbers:\n",
    "    if num in frequency:\n",
    "        frequency[num]+=1\n",
    "    else:\n",
    "        frequency[num]=1\n",
    "print(frequency)"
   ]
  },
  {
   "cell_type": "markdown",
   "id": "c26646b6",
   "metadata": {},
   "source": [
    "Q// Merge 2 Dicts \n"
   ]
  },
  {
   "cell_type": "code",
   "execution_count": 25,
   "id": "0cb56aab",
   "metadata": {},
   "outputs": [
    {
     "name": "stdout",
     "output_type": "stream",
     "text": [
      "{'a': 1, 'b': 2, 'c': 3}\n"
     ]
    }
   ],
   "source": [
    "dict1={\n",
    "\"a\":1,\"b\":2\n",
    "}\n",
    "dict2={\"b\":2,\"c\":3}\n",
    "dict={**dict1,**dict2}\n",
    "\n",
    "print(dict)"
   ]
  },
  {
   "cell_type": "code",
   "execution_count": null,
   "id": "8fc2c293",
   "metadata": {},
   "outputs": [],
   "source": []
  }
 ],
 "metadata": {
  "kernelspec": {
   "display_name": "Python 3",
   "language": "python",
   "name": "python3"
  },
  "language_info": {
   "codemirror_mode": {
    "name": "ipython",
    "version": 3
   },
   "file_extension": ".py",
   "mimetype": "text/x-python",
   "name": "python",
   "nbconvert_exporter": "python",
   "pygments_lexer": "ipython3",
   "version": "3.10.0"
  }
 },
 "nbformat": 4,
 "nbformat_minor": 5
}
