{
 "cells": [
  {
   "cell_type": "code",
   "execution_count": null,
   "metadata": {},
   "outputs": [
    {
     "ename": "",
     "evalue": "",
     "output_type": "error",
     "traceback": [
      "\u001b[1;31mRunning cells with 'Python 3.13.1' requires the ipykernel package.\n",
      "\u001b[1;31mRun the following command to install 'ipykernel' into the Python environment. \n",
      "\u001b[1;31mCommand: 'c:/Python313/python.exe -m pip install ipykernel -U --user --force-reinstall'"
     ]
    }
   ],
   "source": [
    "#List are the ordered ,mutable collection of items.They can contain items of different data types.\n",
    "\n",
    "list=[1,2,3,4,5]\n",
    "emty_list=[]\n",
    "number=list(range(5))\n",
    "print(number)\n",
    "mixed_list=[1,'text',True,3.12] #we can create a list of mixed data types\n",
    "#Accessing Elements\n",
    "my_list=[10,20,30,40]\n",
    "print(my_list[0])#the element at the position 0\n",
    "print(my_list[2])#the element at  the position 2\n",
    "print(my_list[-1])#the element at the last position\n",
    "#Modify the List\n",
    "my_list[1]=25\n",
    "print(my_list)\n",
    "#List methods/functions\n",
    "my_list.append(50)#Add the given element into the list\n",
    "my_list.insert(1,12)#Insert the element into the specified index\n",
    "my_list.remove(30)#remove the given element \n",
    "my_list.pop()#remove the last element\n",
    "my_list.sort()#sort the list in asecding order\n",
    "my_list.reverse()#reverse the list my_list.extend()\n",
    "my_list.extend([40.50])\n",
    "\n",
    "print(my_list.index(40))#\n",
    "my_list.clear()#remove al items in from list"
   ]
  },
  {
   "cell_type": "code",
   "execution_count": null,
   "metadata": {},
   "outputs": [],
   "source": []
  },
  {
   "cell_type": "markdown",
   "metadata": {},
   "source": []
  }
 ],
 "metadata": {
  "kernelspec": {
   "display_name": "Python 3",
   "language": "python",
   "name": "python3"
  },
  "language_info": {
   "name": "python",
   "version": "3.10.0"
  }
 },
 "nbformat": 4,
 "nbformat_minor": 2
}
