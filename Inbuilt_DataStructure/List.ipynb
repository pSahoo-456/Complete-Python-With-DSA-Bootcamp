{
 "cells": [
  {
   "cell_type": "code",
   "execution_count": 7,
   "metadata": {},
   "outputs": [
    {
     "name": "stdout",
     "output_type": "stream",
     "text": [
      "[1, 'text', True, 3.12]\n"
     ]
    }
   ],
   "source": [
    "#List are the ordered ,mutable collection of items.They can contain items of different data types.\n",
    "\n",
    "list=[1,2,3,4,5]\n",
    "emty_list=[]\n",
    "#number=list(range(5))\n",
    "#print(number)\n",
    "mixed_list=[1,'text',True,3.12] #we can create a list of mixed data types\n",
    "print(mixed_list)\n",
    "\n",
    "\n"
   ]
  },
  {
   "cell_type": "code",
   "execution_count": 11,
   "metadata": {},
   "outputs": [
    {
     "name": "stdout",
     "output_type": "stream",
     "text": [
      "10\n",
      "30\n",
      "40\n"
     ]
    }
   ],
   "source": [
    "#Accessing Elements\n",
    "my_list=[10,20,30,40]\n",
    "print(my_list[0])#the element at the position 0\n",
    "print(my_list[2])#the element at  the position 2\n",
    "print(my_list[-1])#the element at the last position\n",
    "#Modify the List"
   ]
  },
  {
   "cell_type": "code",
   "execution_count": 12,
   "metadata": {},
   "outputs": [
    {
     "name": "stdout",
     "output_type": "stream",
     "text": [
      "[10, 25, 30, 40]\n"
     ]
    }
   ],
   "source": [
    "#Modify the List\n",
    "my_list[1]=25\n",
    "print(my_list)"
   ]
  },
  {
   "cell_type": "code",
   "execution_count": 13,
   "metadata": {},
   "outputs": [
    {
     "name": "stdout",
     "output_type": "stream",
     "text": [
      "None\n",
      "None\n",
      "50\n",
      "None\n",
      "None\n",
      "None\n",
      "0\n"
     ]
    }
   ],
   "source": [
    "#List methods/functions\n",
    "print(my_list.append(50))#Add the given element into the list\n",
    "print(my_list.insert(1,12))#Insert the element into the specified index\n",
    "# #remove the given element \n",
    "print(my_list.pop())#remove the last element\n",
    "print(my_list.sort())#sort the list in asecding order\n",
    "print(my_list.reverse())#reverse the list my_list.extend()\n",
    "print(my_list.extend([40.50]))\n",
    "\n",
    "print(my_list.index(40))#\n",
    "my_list.clear()#remove al items in from list"
   ]
  },
  {
   "cell_type": "markdown",
   "metadata": {},
   "source": []
  }
 ],
 "metadata": {
  "kernelspec": {
   "display_name": "Python 3",
   "language": "python",
   "name": "python3"
  },
  "language_info": {
   "codemirror_mode": {
    "name": "ipython",
    "version": 3
   },
   "file_extension": ".py",
   "mimetype": "text/x-python",
   "name": "python",
   "nbconvert_exporter": "python",
   "pygments_lexer": "ipython3",
   "version": "3.10.0"
  }
 },
 "nbformat": 4,
 "nbformat_minor": 2
}
