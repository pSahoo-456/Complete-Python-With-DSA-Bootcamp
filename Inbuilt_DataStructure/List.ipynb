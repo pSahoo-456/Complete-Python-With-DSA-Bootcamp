{
 "cells": [
  {
   "cell_type": "code",
   "execution_count": null,
   "metadata": {},
   "outputs": [],
   "source": [
    "#List are the ordered ,mutable collection of items.They can contain items of different data types.\n",
    "#Creating A list\n",
    "list=[1,2,3,4,5]\n",
    "emty_list=[]\n",
    "number=list(range(5))\n",
    "print(number)\n",
    "mixed_list=[1,'text',True,3.12] #we can create a list of mixed data types\n",
    "#Accessing Elements\n",
    "my_list=[10,20,30,40]\n",
    "print(my_list[0])#the element at the position 0\n",
    "print(my_list[2])#the element at  the position 2\n",
    "print(my_list[-1])#the element at the last position\n",
    "#Modify the List\n",
    "my_list[1]=25\n",
    "print(my_list)\n",
    "#List methods/functions\n",
    "my_list.append(50)#Add the given element into the list\n",
    "my_list.insert(1,12)#Insert the element into the specified index\n",
    "my_list.remove(30)#remove the given element \n",
    "my_list.pop()#remove the last element\n",
    "my_list.sort()#sort the list in asecding order\n",
    "my_list.reverse()#reverse the list \n",
    "my_list.extend()"
   ]
  }
 ],
 "metadata": {
  "language_info": {
   "name": "python"
  }
 },
 "nbformat": 4,
 "nbformat_minor": 2
}
