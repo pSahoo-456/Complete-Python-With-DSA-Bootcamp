{
 "cells": [
  {
   "cell_type": "markdown",
   "id": "fe46c176",
   "metadata": {},
   "source": [
    "Sets are builtin data-type  in python used to store collections of unique items .\n",
    "-->They are unorderd , do not allow duplicate elements .\n",
    "-->sets are useful for membership test , eliminating duplicate entries and performing mathematical opeartions."
   ]
  },
  {
   "cell_type": "code",
   "execution_count": 12,
   "id": "797bf80a",
   "metadata": {},
   "outputs": [
    {
     "name": "stdout",
     "output_type": "stream",
     "text": [
      "{1, 2, 3, 4, 5}\n",
      "<class 'set'>\n",
      "{1, 2, 3, 4, 5}\n"
     ]
    }
   ],
   "source": [
    "#Create a  Set\n",
    "\n",
    "my_set={1,2,3,4,5}\n",
    "print(my_set)\n",
    "print(type(my_set))\n",
    "\n",
    "empty_set=set()\n",
    "my_set=set([1,2,3,4,5])\n",
    "print(my_set)"
   ]
  },
  {
   "cell_type": "code",
   "execution_count": 13,
   "id": "73c7721f",
   "metadata": {},
   "outputs": [
    {
     "name": "stdout",
     "output_type": "stream",
     "text": [
      "None\n",
      "None\n",
      "1\n",
      "{3, 4, 5}\n"
     ]
    }
   ],
   "source": [
    "print(my_set.remove(2))\n",
    "#my_set.remove(10) #key error\n",
    "print(my_set.discard(11)) #No error \n",
    "print(my_set.pop())\n",
    "print(my_set)"
   ]
  },
  {
   "cell_type": "code",
   "execution_count": 15,
   "id": "66bd3a15",
   "metadata": {},
   "outputs": [
    {
     "data": {
      "text/plain": [
       "set()"
      ]
     },
     "execution_count": 15,
     "metadata": {},
     "output_type": "execute_result"
    }
   ],
   "source": [
    "my_set.clear()\n",
    "my_set"
   ]
  },
  {
   "cell_type": "code",
   "execution_count": null,
   "id": "b6a65d7b",
   "metadata": {},
   "outputs": [
    {
     "name": "stdout",
     "output_type": "stream",
     "text": [
      "True\n",
      "False\n"
     ]
    }
   ],
   "source": [
    "\n",
    "#Membership test\n",
    "my_set={1,2,3,4,5,6}\n",
    "print(3 in my_set)\n",
    "print(17 in my_set)"
   ]
  },
  {
   "cell_type": "markdown",
   "id": "f96e91b2",
   "metadata": {},
   "source": [
    "Mathematical Operation"
   ]
  },
  {
   "cell_type": "code",
   "execution_count": null,
   "id": "1ec521c4",
   "metadata": {},
   "outputs": [
    {
     "data": {
      "text/plain": [
       "{1, 2, 3, 4, 5, 6, 7, 8}"
      ]
     },
     "execution_count": 18,
     "metadata": {},
     "output_type": "execute_result"
    }
   ],
   "source": [
    "\n",
    "set1={1,2,3,4,5}\n",
    "set2={4,5,6,7,8}\n",
    "\n",
    "#Union \n",
    "union_set=set1.union(set2)\n",
    "union_set\n"
   ]
  },
  {
   "cell_type": "code",
   "execution_count": 25,
   "id": "aa55b508",
   "metadata": {},
   "outputs": [
    {
     "name": "stdout",
     "output_type": "stream",
     "text": [
      "{4, 5}\n",
      "{4, 5}\n"
     ]
    }
   ],
   "source": [
    "#Intersection\n",
    "intersection_set=set1.intersection(set2)\n",
    "print(intersection_set)\n",
    "\n",
    "set1.intersection_update(set2)\n",
    "print(set1)"
   ]
  },
  {
   "cell_type": "code",
   "execution_count": 27,
   "id": "d92cb601",
   "metadata": {},
   "outputs": [
    {
     "name": "stdout",
     "output_type": "stream",
     "text": [
      "{1, 2, 4}\n",
      "{8, 7}\n"
     ]
    }
   ],
   "source": [
    "#Difference\n",
    "set1={1,2,3,4,5,6}\n",
    "set2={3,5,6,7,8}\n",
    "print(set1.difference(set2))\n",
    "print(set2.difference(set1))"
   ]
  },
  {
   "cell_type": "code",
   "execution_count": 28,
   "id": "5bbcee4b",
   "metadata": {},
   "outputs": [
    {
     "data": {
      "text/plain": [
       "{1, 2, 4, 7, 8}"
      ]
     },
     "execution_count": 28,
     "metadata": {},
     "output_type": "execute_result"
    }
   ],
   "source": [
    "#symmetric difference\n",
    "set1.symmetric_difference(set2)"
   ]
  },
  {
   "cell_type": "code",
   "execution_count": 29,
   "id": "ab4732e5",
   "metadata": {},
   "outputs": [
    {
     "name": "stdout",
     "output_type": "stream",
     "text": [
      "False\n",
      "False\n"
     ]
    }
   ],
   "source": [
    "print(set1.issubset(set2))\n",
    "print(set1.issuperset(set2))"
   ]
  },
  {
   "cell_type": "markdown",
   "id": "2b557ea4",
   "metadata": {},
   "source": [
    "Q // counting Unique words in text"
   ]
  },
  {
   "cell_type": "code",
   "execution_count": 30,
   "id": "af995b7e",
   "metadata": {},
   "outputs": [
    {
     "name": "stdout",
     "output_type": "stream",
     "text": [
      "{'hey,', 'are', 'discussing', 'prakash', 'we', 'sets', \"i'm\", 'sahoo', 'about', 'and'}\n",
      "10\n"
     ]
    }
   ],
   "source": [
    "text=\"hey, i'm prakash sahoo and we are discussing about sets\"\n",
    "words=text.split()\n",
    "#convert this list to set\n",
    "unique_words=set(words)\n",
    "print(unique_words)\n",
    "print(len(unique_words))"
   ]
  },
  {
   "cell_type": "code",
   "execution_count": null,
   "id": "cad6e59a",
   "metadata": {},
   "outputs": [],
   "source": []
  }
 ],
 "metadata": {
  "kernelspec": {
   "display_name": "Python 3",
   "language": "python",
   "name": "python3"
  },
  "language_info": {
   "codemirror_mode": {
    "name": "ipython",
    "version": 3
   },
   "file_extension": ".py",
   "mimetype": "text/x-python",
   "name": "python",
   "nbconvert_exporter": "python",
   "pygments_lexer": "ipython3",
   "version": "3.10.0"
  }
 },
 "nbformat": 4,
 "nbformat_minor": 5
}
