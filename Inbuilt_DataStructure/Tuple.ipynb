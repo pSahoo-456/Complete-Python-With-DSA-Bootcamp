{
 "cells": [
  {
   "cell_type": "markdown",
   "id": "d903eefb",
   "metadata": {},
   "source": [
    "# Tuples are ordered collections of items that are immutable "
   ]
  },
  {
   "cell_type": "code",
   "execution_count": 4,
   "id": "68711c12",
   "metadata": {},
   "outputs": [
    {
     "name": "stdout",
     "output_type": "stream",
     "text": [
      "()\n",
      "<class 'tuple'>\n"
     ]
    }
   ],
   "source": [
    "# Creating a tuple \n",
    "tuple=()\n",
    "print(tuple)\n",
    "print(type(tuple))\n",
    "\n"
   ]
  },
  {
   "cell_type": "code",
   "execution_count": 5,
   "id": "08858f6d",
   "metadata": {},
   "outputs": [
    {
     "name": "stdout",
     "output_type": "stream",
     "text": [
      "(1, 'Hello', 3.12, True)\n"
     ]
    }
   ],
   "source": [
    "mixed_tuple=(1,\"Hello\",3.12,True)\n",
    "print(mixed_tuple)"
   ]
  },
  {
   "cell_type": "code",
   "execution_count": 6,
   "id": "b7487def",
   "metadata": {},
   "outputs": [
    {
     "name": "stdout",
     "output_type": "stream",
     "text": [
      "3\n",
      "5\n",
      "(1, 2, 3, 4)\n",
      "(1, 2, 3, 4, 5)\n",
      "(5, 4, 3, 2, 1)\n"
     ]
    }
   ],
   "source": [
    "#Accesing Tuple Elements\n",
    "num=(1,2,3,4,5)\n",
    "print(num[2]) #Gives the elemnt at position 2 \n",
    "print(num[-1])\n",
    "print(num[0:4]) #slicing elemnts from index 0-3 \n",
    "print(num[::]) #Traverse the tuple\n",
    "print(num[::-1])#Reverse the tuple\n",
    "\n"
   ]
  },
  {
   "cell_type": "code",
   "execution_count": 7,
   "id": "6dd2b926",
   "metadata": {},
   "outputs": [
    {
     "name": "stdout",
     "output_type": "stream",
     "text": [
      "(1, 2, 3, 4, 5, 1, 'Hello', 3.12, True)\n"
     ]
    }
   ],
   "source": [
    "#Operations \n",
    "concatenation=num+mixed_tuple\n",
    "print(concatenation)"
   ]
  },
  {
   "cell_type": "code",
   "execution_count": null,
   "id": "e7ac3c9b",
   "metadata": {},
   "outputs": [
    {
     "data": {
      "text/plain": [
       "(1, 2, 3, 4, 5, 1, 2, 3, 4, 5, 1, 2, 3, 4, 5)"
      ]
     },
     "execution_count": 9,
     "metadata": {},
     "output_type": "execute_result"
    }
   ],
   "source": [
    "#Repetation\n",
    "num*3"
   ]
  },
  {
   "cell_type": "code",
   "execution_count": 12,
   "id": "c911b874",
   "metadata": {},
   "outputs": [
    {
     "ename": "TypeError",
     "evalue": "'tuple' object does not support item assignment",
     "output_type": "error",
     "traceback": [
      "\u001b[1;31m---------------------------------------------------------------------------\u001b[0m",
      "\u001b[1;31mTypeError\u001b[0m                                 Traceback (most recent call last)",
      "Cell \u001b[1;32mIn[12], line 4\u001b[0m\n\u001b[0;32m      1\u001b[0m \u001b[38;5;124;03m'''Tuples are immutable in nature means the elements can not change once they assigned\u001b[39;00m\n\u001b[0;32m      2\u001b[0m \u001b[38;5;124;03m ex- in below'''\u001b[39;00m\n\u001b[1;32m----> 4\u001b[0m \u001b[43mnum\u001b[49m\u001b[43m[\u001b[49m\u001b[38;5;241;43m-\u001b[39;49m\u001b[38;5;241;43m1\u001b[39;49m\u001b[43m]\u001b[49m\u001b[38;5;241m=\u001b[39m\u001b[38;5;124m\"\u001b[39m\u001b[38;5;124mPraksh\u001b[39m\u001b[38;5;124m\"\u001b[39m\n\u001b[0;32m      5\u001b[0m \u001b[38;5;28mprint\u001b[39m(num) \u001b[38;5;66;03m#it will give Type Error \u001b[39;00m\n",
      "\u001b[1;31mTypeError\u001b[0m: 'tuple' object does not support item assignment"
     ]
    }
   ],
   "source": [
    "'''Tuples are immutable in nature means the elements can not change once they assigned\n",
    " ex- in below'''\n",
    "\n",
    "num[-1]=\"Praksh\"\n",
    "print(num) #it will give Type Error \n",
    "\n",
    "\n"
   ]
  },
  {
   "cell_type": "code",
   "execution_count": 16,
   "id": "ff50084f",
   "metadata": {},
   "outputs": [
    {
     "name": "stdout",
     "output_type": "stream",
     "text": [
      "1\n",
      "2\n"
     ]
    }
   ],
   "source": [
    "print(num.count(1))\n",
    "\n",
    "print(num.index(3))"
   ]
  },
  {
   "cell_type": "code",
   "execution_count": 18,
   "id": "760d29d9",
   "metadata": {},
   "outputs": [
    {
     "name": "stdout",
     "output_type": "stream",
     "text": [
      "(1, 'Hello', 3.14)\n",
      "1\n",
      "Hello\n",
      "3.14\n"
     ]
    }
   ],
   "source": [
    "#Packing and Unpacking\n",
    "\n",
    "packed_tuple= 1, \"Hello\",3.14\n",
    "print(packed_tuple)\n",
    "\n",
    "#unpack\n",
    "a,b,c=packed_tuple\n",
    "print(a)\n",
    "print(b)\n",
    "print(c)"
   ]
  },
  {
   "cell_type": "code",
   "execution_count": 22,
   "id": "a8d7ada9",
   "metadata": {},
   "outputs": [
    {
     "name": "stdout",
     "output_type": "stream",
     "text": [
      "1\n",
      "[2, 3, 4]\n",
      "5\n"
     ]
    }
   ],
   "source": [
    "#Unpack with *\n",
    "num=(1,2,3,4,5)\n",
    "first,*middle,last=num\n",
    "print(first)\n",
    "print(middle)\n",
    "print(last)"
   ]
  },
  {
   "cell_type": "code",
   "execution_count": 23,
   "id": "1eed599b",
   "metadata": {},
   "outputs": [
    {
     "name": "stdout",
     "output_type": "stream",
     "text": [
      "(1, 2, 3)\n",
      "c\n"
     ]
    }
   ],
   "source": [
    "#Nested Tuple \n",
    "\n",
    "nested_tuple=((1,2,3),(\"a\",\"b\",\"c\"),(\"True\",\"False\"))\n",
    "print(nested_tuple[0])\n",
    "print(nested_tuple[1][2])"
   ]
  },
  {
   "cell_type": "code",
   "execution_count": 25,
   "id": "968143e8",
   "metadata": {},
   "outputs": [
    {
     "name": "stdout",
     "output_type": "stream",
     "text": [
      "123\n",
      "abc\n",
      "TrueFalse\n"
     ]
    }
   ],
   "source": [
    "#Iterating over Nested Tuple\n",
    "for x in nested_tuple:\n",
    "    for item in x:\n",
    "        print(item,end=\"\")\n",
    "    print()"
   ]
  },
  {
   "cell_type": "code",
   "execution_count": null,
   "id": "c8524e6c",
   "metadata": {},
   "outputs": [],
   "source": []
  }
 ],
 "metadata": {
  "kernelspec": {
   "display_name": "Python 3",
   "language": "python",
   "name": "python3"
  },
  "language_info": {
   "codemirror_mode": {
    "name": "ipython",
    "version": 3
   },
   "file_extension": ".py",
   "mimetype": "text/x-python",
   "name": "python",
   "nbconvert_exporter": "python",
   "pygments_lexer": "ipython3",
   "version": "3.10.0"
  }
 },
 "nbformat": 4,
 "nbformat_minor": 5
}
