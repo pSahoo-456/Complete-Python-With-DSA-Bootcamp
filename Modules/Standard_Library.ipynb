{
 "cells": [
  {
   "cell_type": "markdown",
   "id": "1e89579e",
   "metadata": {},
   "source": [
    "#### python's library is a vast collection of modules and packages that come bundled with python, providing a wide range of functionalities out of the box."
   ]
  },
  {
   "cell_type": "code",
   "execution_count": 4,
   "id": "4b7446e3",
   "metadata": {},
   "outputs": [
    {
     "name": "stdout",
     "output_type": "stream",
     "text": [
      "array('i', [1, 2, 3, 4, 5])\n"
     ]
    }
   ],
   "source": [
    "import array\n",
    "arr=array.array('i',[1,2,3,4,5])\n",
    "print(arr)"
   ]
  },
  {
   "cell_type": "code",
   "execution_count": 5,
   "id": "5147d473",
   "metadata": {},
   "outputs": [
    {
     "name": "stdout",
     "output_type": "stream",
     "text": [
      "4.0\n"
     ]
    }
   ],
   "source": [
    "import math \n",
    "print(math.sqrt(16))  # Example of using the math module to calculate the square root"
   ]
  },
  {
   "cell_type": "code",
   "execution_count": 6,
   "id": "a59fd7a5",
   "metadata": {},
   "outputs": [
    {
     "name": "stdout",
     "output_type": "stream",
     "text": [
      "5\n",
      "banana\n"
     ]
    }
   ],
   "source": [
    "import random\n",
    "print(random.randint(1, 10))  # Example of using the random module to generate a random integer between 1 and 10\n",
    "print(random.choice(['apple', 'banana', 'cherry']))  # Example of using random.choice to select a random item from a list"
   ]
  },
  {
   "cell_type": "code",
   "execution_count": null,
   "id": "e6f68b1e",
   "metadata": {},
   "outputs": [
    {
     "name": "stdout",
     "output_type": "stream",
     "text": [
      "d:\\Complete-Python-With-DSA-Bootcamp\\Modules\n"
     ]
    }
   ],
   "source": [
    "# File and directory operations\n",
    "import os\n",
    "print(os.getcwd()) # Get the current working directory\n"
   ]
  },
  {
   "cell_type": "code",
   "execution_count": null,
   "id": "ae7697a8",
   "metadata": {},
   "outputs": [],
   "source": [
    "os.mkdir('new_directory')  # Create a new directory\n",
    "os.chdir('new_directory')  # Change the current working directory\n",
    "os.rmdir('new_directory')  # Remove the directory\n",
    "os.chdir('..')  # Change back to the previous directory\n"
   ]
  },
  {
   "cell_type": "code",
   "execution_count": 9,
   "id": "805c000d",
   "metadata": {},
   "outputs": [
    {
     "name": "stdout",
     "output_type": "stream",
     "text": [
      "usage(total=258098589696, used=32041750528, free=226056839168)\n"
     ]
    }
   ],
   "source": [
    "## high level overview of python's library\n",
    "import shutil\n",
    "print(shutil.disk_usage('/'))  # Get disk usage statistics for the root directory\n"
   ]
  },
  {
   "cell_type": "code",
   "execution_count": null,
   "id": "3a6f9ddb",
   "metadata": {},
   "outputs": [
    {
     "data": {
      "text/plain": [
       "'destination.txt'"
      ]
     },
     "execution_count": 10,
     "metadata": {},
     "output_type": "execute_result"
    }
   ],
   "source": [
    "shutil.copy('source.txt', 'destination.txt')  # Copy a file from source to destination\n",
    "shutil.move('source.txt', 'new_location/source.txt')  # Move a file to a new location\n"
   ]
  },
  {
   "cell_type": "code",
   "execution_count": 15,
   "id": "fb848649",
   "metadata": {},
   "outputs": [
    {
     "name": "stdout",
     "output_type": "stream",
     "text": [
      "<class 'str'>\n",
      "{\"name\": \"Prakash\", \"age\": 21, \"city\": \"Bhadrak\"}\n",
      "<class 'dict'>\n",
      "{'name': 'Prakash', 'age': 21, 'city': 'Bhadrak'}\n"
     ]
    }
   ],
   "source": [
    "## Data serialization\n",
    "import json\n",
    "data = {'name': 'Prakash', 'age': 21, 'city': 'Bhadrak'}\n",
    "json_str=json.dumps(data)# Convert Python object to JSON string\n",
    "print(type(json_str)) \n",
    "print(json_str)  # Print the JSON string representation of the data\n",
    "\n",
    "\n",
    "parsed_data=json.loads(json_str)\n",
    "print(type(parsed_data))  # Check the type of the parsed data\n",
    "print(parsed_data)  # Convert JSON string back to Python object"
   ]
  },
  {
   "cell_type": "code",
   "execution_count": 16,
   "id": "0f930623",
   "metadata": {},
   "outputs": [
    {
     "name": "stdout",
     "output_type": "stream",
     "text": [
      "['Name', 'Age', 'City']\n",
      "['Prakash', '21', 'Bhadrak']\n",
      "['Ashu', '20', 'Sambalpur']\n"
     ]
    }
   ],
   "source": [
    "## csv\n",
    "import csv\n",
    "with open('data.csv', mode='w', newline='') as file:\n",
    "    writer = csv.writer(file)\n",
    "    writer.writerow(['Name', 'Age', 'City'])\n",
    "    writer.writerow(['Prakash', 21, 'Bhadrak'])\n",
    "    writer.writerow(['Ashu', 20, 'Sambalpur'])\n",
    "with open('data.csv', mode='r') as file:\n",
    "    reader = csv.reader(file)\n",
    "    for row in reader:\n",
    "        print(row)  # Print each row of the CSV file\n"
   ]
  },
  {
   "cell_type": "code",
   "execution_count": null,
   "id": "7578a8ae",
   "metadata": {},
   "outputs": [
    {
     "name": "stdout",
     "output_type": "stream",
     "text": [
      "2025-07-25 19:46:42.276389\n",
      "2025-07-30 19:46:42.276389\n",
      "2025-07-24 19:46:42.276389\n"
     ]
    }
   ],
   "source": [
    "from datetime import timedelta, datetime\n",
    "now=datetime.now()\n",
    "print(now)  # Print the current date and time\n",
    "future_date=now+timedelta(days=5)\n",
    "print(future_date)\n",
    "yesterday=now-timedelta(days=1)\n",
    "print(yesterday) # This will print the yesterday's date and time  ."
   ]
  },
  {
   "cell_type": "code",
   "execution_count": 2,
   "id": "c7ec56f5",
   "metadata": {},
   "outputs": [
    {
     "name": "stdout",
     "output_type": "stream",
     "text": [
      "1753453121.9779682\n",
      "1753453126.991246\n"
     ]
    }
   ],
   "source": [
    "#Time \n",
    "import time \n",
    "print(time.time())\n",
    "time.sleep(5)\n",
    "print(time.time())"
   ]
  },
  {
   "cell_type": "code",
   "execution_count": 3,
   "id": "4998cb6d",
   "metadata": {},
   "outputs": [
    {
     "name": "stdout",
     "output_type": "stream",
     "text": [
      "123\n"
     ]
    }
   ],
   "source": [
    "# Regular Expression \n",
    "import re\n",
    "\n",
    "pattern=r'\\d+'\n",
    "text='There are 123 apples'\n",
    "match=re.search(pattern,text)\n",
    "print(match.group())"
   ]
  },
  {
   "cell_type": "code",
   "execution_count": null,
   "id": "ed0528e2",
   "metadata": {},
   "outputs": [],
   "source": []
  }
 ],
 "metadata": {
  "kernelspec": {
   "display_name": "Python 3",
   "language": "python",
   "name": "python3"
  },
  "language_info": {
   "codemirror_mode": {
    "name": "ipython",
    "version": 3
   },
   "file_extension": ".py",
   "mimetype": "text/x-python",
   "name": "python",
   "nbconvert_exporter": "python",
   "pygments_lexer": "ipython3",
   "version": "3.10.0"
  }
 },
 "nbformat": 4,
 "nbformat_minor": 5
}
