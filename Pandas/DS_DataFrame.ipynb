{
 "cells": [
  {
   "cell_type": "code",
   "execution_count": 1,
   "metadata": {},
   "outputs": [],
   "source": [
    "import pandas as pd\n",
    "data={\n",
    "    'Name':['Prakash',\"Malaya\",\"Subhranshu\"],\n",
    "    'Age':[21,20,22],\n",
    "    'Salary':[40000,30000,450000],\n",
    "    \"City\":[\"Banglore\",\"Bhadrak\",\"jajpur\"]\n",
    "}\n",
    "\n"
   ]
  },
  {
   "cell_type": "code",
   "execution_count": 4,
   "metadata": {},
   "outputs": [
    {
     "name": "stdout",
     "output_type": "stream",
     "text": [
      "         Name  Age  Salary      City\n",
      "0     Prakash   21   40000  Banglore\n",
      "1      Malaya   20   30000   Bhadrak\n",
      "2  Subhranshu   22  450000    jajpur\n",
      "<class 'pandas.core.frame.DataFrame'>\n"
     ]
    }
   ],
   "source": [
    "df=pd.DataFrame(data)\n",
    "print(df)\n",
    "print(type(df))"
   ]
  },
  {
   "cell_type": "code",
   "execution_count": 5,
   "metadata": {},
   "outputs": [],
   "source": [
    "#Creating a dataframe from list of list\n",
    "data=[\n",
    "    ['Parakash',30,87000000],\n",
    "    ['kaivalya',30,80000000],\n",
    "    ['Rudea',35,10000000000]\n",
    "    \n",
    "]"
   ]
  },
  {
   "cell_type": "code",
   "execution_count": 7,
   "metadata": {},
   "outputs": [
    {
     "name": "stdout",
     "output_type": "stream",
     "text": [
      "       Name  Age       Salary\n",
      "0  Parakash   30     87000000\n",
      "1  kaivalya   30     80000000\n",
      "2     Rudea   35  10000000000\n"
     ]
    }
   ],
   "source": [
    "df=pd.DataFrame(data,columns=['Name','Age','Salary'])\n",
    "print(df)"
   ]
  },
  {
   "cell_type": "code",
   "execution_count": null,
   "metadata": {},
   "outputs": [],
   "source": []
  }
 ],
 "metadata": {
  "kernelspec": {
   "display_name": "Python 3",
   "language": "python",
   "name": "python3"
  },
  "language_info": {
   "codemirror_mode": {
    "name": "ipython",
    "version": 3
   },
   "file_extension": ".py",
   "mimetype": "text/x-python",
   "name": "python",
   "nbconvert_exporter": "python",
   "pygments_lexer": "ipython3",
   "version": "3.12.1"
  }
 },
 "nbformat": 4,
 "nbformat_minor": 2
}
